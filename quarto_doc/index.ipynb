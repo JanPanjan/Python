{
  "cells": [
    {
      "cell_type": "raw",
      "metadata": {},
      "source": [
        "---\n",
        "author: \"Jan Panjan\"\n",
        "date: \"10/13/2024\"\n",
        "title: \"Python notes\"\n",
        "format:\n",
        "  html:\n",
        "    toc: true\n",
        "execute: \n",
        "  warning: false\n",
        "  message: false\n",
        "  error: false\n",
        "  echo: true\n",
        "---"
      ],
      "id": "0d7367ce"
    },
    {
      "cell_type": "markdown",
      "metadata": {},
      "source": [
        "### Opomba\n",
        "\n",
        "Tu ne bo vse o pythonu, samo tisto kar si ne zapomnem oziroma se učim.\n",
        "\n",
        "- [codecademy](https://www.codecademy.com/learn) \n",
        "- [Python_docs](https://www.codecademy.com/resources/docs/python?page_ref=catalog) \n",
        "- [pythong built in functiosn](https://www.codecademy.com/resources/docs/python/built-in-functions)"
      ],
      "id": "62c3c3c9"
    },
    {
      "cell_type": "markdown",
      "metadata": {},
      "source": [
        "---\n",
        "\n",
        "# Tuples in lists\n",
        "\n",
        "Razlika med njima: tuples so immutable.\n"
      ],
      "id": "d9e74859"
    },
    {
      "cell_type": "code",
      "metadata": {},
      "source": [
        "#| error: true\n",
        "to = (\"anja\", \"jan\")\n",
        "print(to)\n",
        "to[0] = \"miha\""
      ],
      "id": "3c94f38c",
      "execution_count": null,
      "outputs": []
    },
    {
      "cell_type": "code",
      "metadata": {},
      "source": [
        "ti = [\"anja\", \"jan\"]\n",
        "ti[0] = \"miha\"\n",
        "print(ti)"
      ],
      "id": "065b02cf",
      "execution_count": null,
      "outputs": []
    },
    {
      "cell_type": "markdown",
      "metadata": {},
      "source": [
        "# Count\n",
        "\n",
        "Prešteje število ponovitev enakih elementov. Vrne integer.\n"
      ],
      "id": "d697dc15"
    },
    {
      "cell_type": "code",
      "metadata": {},
      "source": [
        "tabar = (\"sardele\", \"jabolka\", \"sardele\", \"tatar\", \"raža\", \"sardele\")\n",
        "print(tabar.count(\"sardele\"))"
      ],
      "id": "8b80ec0c",
      "execution_count": null,
      "outputs": []
    },
    {
      "cell_type": "markdown",
      "metadata": {},
      "source": [
        "# Index\n",
        "\n",
        "Vrne index elementa. Vrne integer. Če je več enakih elementov, vrne samo \n",
        "prvi indeks.\n"
      ],
      "id": "a383ea75"
    },
    {
      "cell_type": "code",
      "metadata": {},
      "source": [
        "tabar = (\"sardele\", \"jabolka\", \"sardele\", \"tatar\", \"raža\", \"sardele\")\n",
        "print(tabar.index(\"sardele\"))"
      ],
      "id": "24015e59",
      "execution_count": null,
      "outputs": []
    },
    {
      "cell_type": "markdown",
      "metadata": {},
      "source": [
        "# Dictionary ali slovar\n",
        "\n",
        "Key-value struktura. Elemente prikličemo s key vrednostjo. Kot named vector\n",
        "v R-ju.\n",
        "\n",
        "`slovar = { key : value }`\n"
      ],
      "id": "b8c8a0b7"
    },
    {
      "cell_type": "code",
      "metadata": {},
      "source": [
        "slovarcek = {'filip':'gey', 'jan':'verygay'}\n",
        "print(slovarcek['filip'])\n",
        "\n",
        "mlamla = {'filip':[1,2,3], 'jan':['handsom', 'amazing', 'hell yeha']}\n",
        "print(mlamla['filip'])\n",
        "print(mlamla['jan'])\n",
        "print(mlamla['jan'][2])"
      ],
      "id": "1676af91",
      "execution_count": null,
      "outputs": []
    },
    {
      "cell_type": "markdown",
      "metadata": {},
      "source": [
        "Lahko ga najprej definiraš in nato assignaš keys, kot bi lahko\n",
        "z listi npr.\n"
      ],
      "id": "f76781b5"
    },
    {
      "cell_type": "code",
      "metadata": {},
      "source": [
        "mimi = {}\n",
        "mimi['lana'] = 'pipika :)'\n",
        "mimi['leo'] = 'chan :3'\n",
        "print(mimi)"
      ],
      "id": "48e1637f",
      "execution_count": null,
      "outputs": []
    },
    {
      "cell_type": "markdown",
      "metadata": {},
      "source": [
        "Kot `names()` lahko uporabiš v pythonu `keys`, ki vrne *dict_keys* objekt.\n"
      ],
      "id": "6827a1a1"
    },
    {
      "cell_type": "code",
      "metadata": {},
      "source": [
        "print(mimi.keys())\n",
        "print(type(mimi.keys()))"
      ],
      "id": "d00cc41c",
      "execution_count": null,
      "outputs": []
    },
    {
      "cell_type": "markdown",
      "metadata": {},
      "source": [
        "`Values` in `items` vrneta ostali dve stvari.\n"
      ],
      "id": "09f00f6e"
    },
    {
      "cell_type": "code",
      "metadata": {},
      "source": [
        "print(mimi.values())\n",
        "print(type(mimi.values()))\n",
        "print(mimi.items())\n",
        "print(type(mimi.items()))"
      ],
      "id": "9f1301d4",
      "execution_count": null,
      "outputs": []
    },
    {
      "cell_type": "markdown",
      "metadata": {},
      "source": [
        "Iteracije čez elemente so različne glede na uporabljeno funkcijo.\n"
      ],
      "id": "ebe0807a"
    },
    {
      "cell_type": "code",
      "metadata": {},
      "source": [
        "data = {'jan':10, 'filip':11, 'miha':12}\n",
        "\n",
        "for i in data:\n",
        "    print(i)\n",
        "\n",
        "for i in data.keys():\n",
        "    print(i)\n",
        "\n",
        "for i in data.items():\n",
        "    print(i)\n",
        "\n",
        "for i in data.values():\n",
        "    print(i)"
      ],
      "id": "66a4858c",
      "execution_count": null,
      "outputs": []
    },
    {
      "cell_type": "markdown",
      "metadata": {},
      "source": [
        "# LIST COMPREHENSION\n",
        "\n",
        "new_list = \\[expression for item in iterable if condition]\n",
        "\n",
        "- expression: The operation applied to each item (this can be as simple as returning the item itself or modifying it).\n",
        "- item: The variable that takes the value of each element in the iterable.\n",
        "- iterable: The collection or sequence you are iterating over (like a list, string, or range).\n",
        "- condition: (Optional) A filter to include only certain items based on some criteria.\n"
      ],
      "id": "e21c09bb"
    },
    {
      "cell_type": "code",
      "metadata": {},
      "source": [
        "data = [\n",
        "    [1, 2, 3],\n",
        "    [4, 5, 6],\n",
        "    [7, 8, 9]\n",
        "]\n",
        "\n",
        "# list comprehension\n",
        "# new_list = [expression for item in iterable if condition]\n",
        "\n",
        "# first two rows\n",
        "print(data[:2])\n",
        "\n",
        "# first two columns\n",
        "print([row[:2] for row in data])\n",
        "\n",
        "# 2x2 matrix, top left corner\n",
        "print([row[:2] for row in data[:2]])\n",
        "\n",
        "# flattened list\n",
        "print([item for row in data for item in row])\n",
        "\n",
        "# basic cases\n",
        "print([x for x in range(0, 5)])\n",
        "print([x ** 2 for x in range(0, 5)])\n",
        "print([x for x in range(0, 5) if x > 3])\n",
        "print([x for x in [1, 2, 3, 4, 5] if x % 2 == 0])\n",
        "\n",
        "# strings\n",
        "print([char for char in \"jan\"])\n",
        "print([char for char in \"jan\" if char.isupper()])\n",
        "print([char for char in \"jan\" if char.islower()])"
      ],
      "id": "7d431949",
      "execution_count": null,
      "outputs": []
    },
    {
      "cell_type": "markdown",
      "metadata": {},
      "source": [
        "# Python gotcha\n",
        "\n",
        "[funckije v pythonu so objekti, ne samo nek kos kode](https://stackoverflow.com/questions/1132941/least-astonishment-and-the-mutable-default-argument)\n",
        "\n",
        "# *Args\n",
        "\n",
        "Unpacking operator * (variable number of arguments). Pošljemo več parametrov v \n",
        "funkcijo z enim argumentom. Vrne touple.\n"
      ],
      "id": "974f96f5"
    },
    {
      "cell_type": "code",
      "metadata": {},
      "source": [
        "def example(*args):\n",
        "    print(args)\n",
        "    return\n",
        "\n",
        "example(\"tvoja\", \"mama\", 35, True)"
      ],
      "id": "72ad71ec",
      "execution_count": null,
      "outputs": []
    },
    {
      "cell_type": "markdown",
      "metadata": {},
      "source": [
        "# **Kwargs\n",
        "\n",
        "Keyword args... Basically, zdaj lahko daš parametrom še imena. Namesto touple, se shranijo\n",
        "v dictionary.\n"
      ],
      "id": "9a7c4318"
    },
    {
      "cell_type": "code",
      "metadata": {},
      "source": [
        "def kwadfs(**kwargs):\n",
        "    print(kwargs)\n",
        "    # pogledamo, če obstaja key \"ta_jajca\"\n",
        "    print(kwargs.get(\"ta_jajca\"))\n",
        "    # pogledamo, če obstaja key \"tvoja_mama\"\n",
        "    print(kwargs.get(\"tvoja_mama\"))\n",
        "    return\n",
        "\n",
        "kwadfs(ta_jajca = 999, moja_mama = \"Nuša\")"
      ],
      "id": "6332e29b",
      "execution_count": null,
      "outputs": []
    },
    {
      "cell_type": "markdown",
      "metadata": {},
      "source": [
        "Lahko kombiniramo pozicijske argumente s kwargs. Pozicijski morajo biti pred imenovanimi\n",
        "parametri.\n"
      ],
      "id": "878a06b0"
    },
    {
      "cell_type": "code",
      "metadata": {},
      "source": [
        "def new_kwadfs(extra, **kwargs):\n",
        "    print(extra)\n",
        "    print(kwargs)\n",
        "    # pogledamo, če obstaja key \"ta_jajca\"\n",
        "    print(kwargs.get(\"ta_jajca\"))\n",
        "    # pogledamo, če obstaja key \"tvoja_mama\"\n",
        "    print(kwargs.get(\"tvoja_mama\"))\n",
        "    return\n",
        "\n",
        "new_kwadfs(\"burger\", ta_jajca = 999, moja_mama = \"Nuša\")"
      ],
      "id": "3df3867b",
      "execution_count": null,
      "outputs": []
    },
    {
      "cell_type": "markdown",
      "metadata": {},
      "source": [
        "Standard order argumentov:\n",
        "\n",
        "1. positional arguments\n",
        "2. *args\n",
        "3. keyword arguments\n",
        "4. **kwags\n",
        "\n",
        "## Aplications z built in funkcijami\n"
      ],
      "id": "891afdc7"
    },
    {
      "cell_type": "code",
      "metadata": {},
      "source": [
        "l = [3,6]\n",
        "\n",
        "print(l)\n",
        "print(*l)\n",
        "list(range(*l))"
      ],
      "id": "901c2e66",
      "execution_count": null,
      "outputs": []
    },
    {
      "cell_type": "raw",
      "metadata": {},
      "source": [
        "---"
      ],
      "id": "0c5ab8cf"
    },
    {
      "cell_type": "markdown",
      "metadata": {},
      "source": [
        "R:\n"
      ],
      "id": "277bfbe7"
    },
    {
      "cell_type": "code",
      "metadata": {},
      "source": [
        "v <- c(1,2,3)\n",
        "v2 <- c(0, v)\n",
        "\n",
        "v2"
      ],
      "id": "5a5055c5",
      "execution_count": null,
      "outputs": []
    },
    {
      "cell_type": "markdown",
      "metadata": {},
      "source": [
        "Python ekvivalentno z args operatorjem:\n"
      ],
      "id": "7ee3f708"
    },
    {
      "cell_type": "code",
      "metadata": {},
      "source": [
        "v = (1, 2, 3)\n",
        "v2 = (0, *v)"
      ],
      "id": "321ccee2",
      "execution_count": null,
      "outputs": []
    },
    {
      "cell_type": "markdown",
      "metadata": {},
      "source": [
        "Brez `*` operatorja, bi dobili tuple znotraj tupla.\n"
      ],
      "id": "08666e2a"
    },
    {
      "cell_type": "code",
      "metadata": {},
      "source": [
        "v = (1, 2, 3)\n",
        "v2 = (0, v)"
      ],
      "id": "d1e7a5ca",
      "execution_count": null,
      "outputs": []
    }
  ],
  "metadata": {
    "kernelspec": {
      "name": "python3",
      "language": "python",
      "display_name": "Python 3 (ipykernel)"
    }
  },
  "nbformat": 4,
  "nbformat_minor": 5
}